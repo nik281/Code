{
 "cells": [
  {
   "cell_type": "code",
   "execution_count": 1,
   "metadata": {},
   "outputs": [
    {
     "data": {
      "text/plain": [
       "'Name,Age,Profession\\nNikhil,22,Analyst\\nShivam,23,Developer\\nAsti,22,Engineer\\n'"
      ]
     },
     "execution_count": 1,
     "metadata": {},
     "output_type": "execute_result"
    }
   ],
   "source": [
    "f = open('fi.csv')\n",
    "f.read()"
   ]
  },
  {
   "cell_type": "code",
   "execution_count": 6,
   "metadata": {},
   "outputs": [],
   "source": [
    "f.seek(0)\n",
    "con = f.read()"
   ]
  },
  {
   "cell_type": "code",
   "execution_count": 7,
   "metadata": {},
   "outputs": [
    {
     "data": {
      "text/plain": [
       "'Name,Age,Profession\\nNikhil,22,Analyst\\nShivam,23,Developer\\nAsti,22,Engineer\\n'"
      ]
     },
     "execution_count": 7,
     "metadata": {},
     "output_type": "execute_result"
    }
   ],
   "source": [
    "con"
   ]
  },
  {
   "cell_type": "code",
   "execution_count": 8,
   "metadata": {},
   "outputs": [
    {
     "data": {
      "text/plain": [
       "str"
      ]
     },
     "execution_count": 8,
     "metadata": {},
     "output_type": "execute_result"
    }
   ],
   "source": [
    "type(con)"
   ]
  },
  {
   "cell_type": "code",
   "execution_count": 30,
   "metadata": {},
   "outputs": [
    {
     "data": {
      "text/plain": [
       "[['Name', 'Age', 'Profession'],\n",
       " ['Nikhil', '22', 'Analyst'],\n",
       " ['Shivam', '23', 'Developer'],\n",
       " ['Asti', '22', 'Engineer'],\n",
       " ['']]"
      ]
     },
     "execution_count": 30,
     "metadata": {},
     "output_type": "execute_result"
    }
   ],
   "source": [
    "s = con.split('\\n')\n",
    "s\n",
    "s1 = [i.split(',') for i in s]\n",
    "s1"
   ]
  },
  {
   "cell_type": "code",
   "execution_count": 31,
   "metadata": {},
   "outputs": [],
   "source": [
    "ll = []\n",
    "for i in s:\n",
    "    ll.append(i.split(','))"
   ]
  },
  {
   "cell_type": "code",
   "execution_count": 32,
   "metadata": {},
   "outputs": [
    {
     "data": {
      "text/plain": [
       "[['Name', 'Age', 'Profession'],\n",
       " ['Nikhil', '22', 'Analyst'],\n",
       " ['Shivam', '23', 'Developer'],\n",
       " ['Asti', '22', 'Engineer'],\n",
       " ['']]"
      ]
     },
     "execution_count": 32,
     "metadata": {},
     "output_type": "execute_result"
    }
   ],
   "source": [
    "ll"
   ]
  },
  {
   "cell_type": "code",
   "execution_count": 35,
   "metadata": {},
   "outputs": [
    {
     "name": "stdout",
     "output_type": "stream",
     "text": [
      "<csv.DictReader object at 0x7fcc94ea0320>\n",
      "<class 'csv.DictReader'>\n",
      "{'Name,Age,Profession': 'Nikhil', None: ['22,Analyst']}\n",
      "{'Name,Age,Profession': 'Shivam', None: ['23,Developer']}\n",
      "{'Name,Age,Profession': 'Asti', None: ['22,Engineer']}\n"
     ]
    }
   ],
   "source": [
    "import csv\n",
    "#Dictreader\n",
    "with open('fi.csv') as file:\n",
    "    reader = csv.DictReader(file,delimiter='|')\n",
    "    print(reader)\n",
    "    print(type(reader))\n",
    "    for i in reader:\n",
    "        print(i)"
   ]
  },
  {
   "cell_type": "code",
   "execution_count": null,
   "metadata": {},
   "outputs": [],
   "source": []
  }
 ],
 "metadata": {
  "kernelspec": {
   "display_name": "Python 3",
   "language": "python",
   "name": "python3"
  },
  "language_info": {
   "codemirror_mode": {
    "name": "ipython",
    "version": 3
   },
   "file_extension": ".py",
   "mimetype": "text/x-python",
   "name": "python",
   "nbconvert_exporter": "python",
   "pygments_lexer": "ipython3",
   "version": "3.12.1"
  }
 },
 "nbformat": 4,
 "nbformat_minor": 2
}
