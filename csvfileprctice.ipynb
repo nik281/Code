{
 "cells": [
  {
   "cell_type": "code",
   "execution_count": 1,
   "id": "ca5a3d95-82c1-402e-a220-2229885b3407",
   "metadata": {},
   "outputs": [
    {
     "ename": "FileNotFoundError",
     "evalue": "[Errno 2] No such file or directory: 'firstcsv.csv'",
     "output_type": "error",
     "traceback": [
      "\u001b[0;31m---------------------------------------------------------------------------\u001b[0m",
      "\u001b[0;31mFileNotFoundError\u001b[0m                         Traceback (most recent call last)",
      "Cell \u001b[0;32mIn[1], line 3\u001b[0m\n\u001b[1;32m      1\u001b[0m \u001b[38;5;66;03m#approach 1\u001b[39;00m\n\u001b[1;32m      2\u001b[0m \u001b[38;5;28;01mimport\u001b[39;00m \u001b[38;5;21;01mcsv\u001b[39;00m\n\u001b[0;32m----> 3\u001b[0m f\u001b[38;5;241m=\u001b[39m\u001b[38;5;28;43mopen\u001b[39;49m\u001b[43m(\u001b[49m\u001b[38;5;124;43m'\u001b[39;49m\u001b[38;5;124;43mfirstcsv.csv\u001b[39;49m\u001b[38;5;124;43m'\u001b[39;49m\u001b[43m)\u001b[49m\n\u001b[1;32m      4\u001b[0m f\u001b[38;5;241m.\u001b[39mread()\n",
      "File \u001b[0;32m~/.local/lib/python3.12/site-packages/IPython/core/interactiveshell.py:310\u001b[0m, in \u001b[0;36m_modified_open\u001b[0;34m(file, *args, **kwargs)\u001b[0m\n\u001b[1;32m    303\u001b[0m \u001b[38;5;28;01mif\u001b[39;00m file \u001b[38;5;129;01min\u001b[39;00m {\u001b[38;5;241m0\u001b[39m, \u001b[38;5;241m1\u001b[39m, \u001b[38;5;241m2\u001b[39m}:\n\u001b[1;32m    304\u001b[0m     \u001b[38;5;28;01mraise\u001b[39;00m \u001b[38;5;167;01mValueError\u001b[39;00m(\n\u001b[1;32m    305\u001b[0m         \u001b[38;5;124mf\u001b[39m\u001b[38;5;124m\"\u001b[39m\u001b[38;5;124mIPython won\u001b[39m\u001b[38;5;124m'\u001b[39m\u001b[38;5;124mt let you open fd=\u001b[39m\u001b[38;5;132;01m{\u001b[39;00mfile\u001b[38;5;132;01m}\u001b[39;00m\u001b[38;5;124m by default \u001b[39m\u001b[38;5;124m\"\u001b[39m\n\u001b[1;32m    306\u001b[0m         \u001b[38;5;124m\"\u001b[39m\u001b[38;5;124mas it is likely to crash IPython. If you know what you are doing, \u001b[39m\u001b[38;5;124m\"\u001b[39m\n\u001b[1;32m    307\u001b[0m         \u001b[38;5;124m\"\u001b[39m\u001b[38;5;124myou can use builtins\u001b[39m\u001b[38;5;124m'\u001b[39m\u001b[38;5;124m open.\u001b[39m\u001b[38;5;124m\"\u001b[39m\n\u001b[1;32m    308\u001b[0m     )\n\u001b[0;32m--> 310\u001b[0m \u001b[38;5;28;01mreturn\u001b[39;00m \u001b[43mio_open\u001b[49m\u001b[43m(\u001b[49m\u001b[43mfile\u001b[49m\u001b[43m,\u001b[49m\u001b[43m \u001b[49m\u001b[38;5;241;43m*\u001b[39;49m\u001b[43margs\u001b[49m\u001b[43m,\u001b[49m\u001b[43m \u001b[49m\u001b[38;5;241;43m*\u001b[39;49m\u001b[38;5;241;43m*\u001b[39;49m\u001b[43mkwargs\u001b[49m\u001b[43m)\u001b[49m\n",
      "\u001b[0;31mFileNotFoundError\u001b[0m: [Errno 2] No such file or directory: 'firstcsv.csv'"
     ]
    }
   ],
   "source": [
    "#approach 1\n",
    "import csv\n",
    "f=open('firstcsv.csv')\n",
    "f.read()"
   ]
  },
  {
   "cell_type": "code",
   "execution_count": null,
   "id": "f49f68ff-fa2e-439b-bb99-b58a2f9b75ef",
   "metadata": {},
   "outputs": [
    {
     "name": "stdout",
     "output_type": "stream",
     "text": [
      "<class '_csv.reader'>\n",
      "<_csv.reader object at 0x0000023218BAE8C0>\n"
     ]
    }
   ],
   "source": [
    "reader=csv.reader(f)\n",
    "print(type(reader))\n",
    "print(reader)"
   ]
  },
  {
   "cell_type": "code",
   "execution_count": null,
   "id": "a6e42444-d700-446c-818a-c1e6d6e2b1ee",
   "metadata": {},
   "outputs": [
    {
     "name": "stdout",
     "output_type": "stream",
     "text": [
      "['Name', 'Age', 'Profession']\n",
      "['Asti', '22', 'engineer']\n",
      "['Nikhil', '23', 'Data Analyst']\n",
      "['Shivam', '25', 'Developer']\n"
     ]
    }
   ],
   "source": [
    "f.seek(0)\n",
    "for i in reader:\n",
    "    print(i)\n",
    "f.close()"
   ]
  },
  {
   "cell_type": "code",
   "execution_count": null,
   "id": "d77a950f-e699-49b0-874b-39db0c3d8744",
   "metadata": {},
   "outputs": [
    {
     "name": "stdout",
     "output_type": "stream",
     "text": [
      "[['Name', 'Age', 'Profession'], ['Asti', '22', 'engineer'], ['Nikhil', '23', 'Data Analyst'], ['Shivam', '25', 'Developer']]\n"
     ]
    }
   ],
   "source": [
    "#approach 2\n",
    "f.seek(0)\n",
    "f=open('firstcsv.csv')\n",
    "fileread=f.read()\n",
    "s=fileread.split('\\n')\n",
    "lst=[]\n",
    "# for i in s:\n",
    "#     lst.append([i])\n",
    "# for i in lst:\n",
    "#     print(i)\n",
    "for i in s:\n",
    "    lst.append(i.split(','))\n",
    "for i in lst:\n",
    "    print(i)\n",
    "f.close()"
   ]
  },
  {
   "cell_type": "code",
   "execution_count": null,
   "id": "7eee491f-c533-4156-a3e7-148db0d46772",
   "metadata": {},
   "outputs": [
    {
     "name": "stdout",
     "output_type": "stream",
     "text": [
      "[['Name', 'Age', 'Profession'], ['Asti', '22', 'engineer'], ['Nikhil', '23', 'Data Analyst'], ['Shivam', '25', 'Developer']]\n"
     ]
    }
   ],
   "source": [
    "#comprehesion spliting\n",
    "f.seek(0)\n",
    "f=open('firstcsv.csv')\n",
    "fileread=f.read()\n",
    "s2=fileread.split('\\n')\n",
    "lst2=[i.split(',') for i in s2]\n",
    "print(lst2)"
   ]
  },
  {
   "cell_type": "code",
   "execution_count": null,
   "id": "db88676a-2d1b-4bf9-ad4c-a12729a5118f",
   "metadata": {},
   "outputs": [
    {
     "name": "stdout",
     "output_type": "stream",
     "text": [
      "['Name', 'Age', 'Profession']\n",
      "['Asti', '22', 'engineer']\n",
      "['Nikhil', '23', 'Data Analyst']\n",
      "['Shivam', '25', 'Developer']\n"
     ]
    }
   ],
   "source": [
    "#approach 3\n",
    "with open('firstcsv.csv') as f:\n",
    "    reader=csv.reader(f)\n",
    "    for i in reader:\n",
    "        print(i)"
   ]
  },
  {
   "cell_type": "code",
   "execution_count": null,
   "id": "9b9c28be-550b-43f2-8dca-15cce2ed3ea9",
   "metadata": {},
   "outputs": [
    {
     "ename": "ValueError",
     "evalue": "I/O operation on closed file.",
     "output_type": "error",
     "traceback": [
      "\u001b[1;31m---------------------------------------------------------------------------\u001b[0m",
      "\u001b[1;31mValueError\u001b[0m                                Traceback (most recent call last)",
      "Cell \u001b[1;32mIn[50], line 1\u001b[0m\n\u001b[1;32m----> 1\u001b[0m \u001b[43mf\u001b[49m\u001b[38;5;241;43m.\u001b[39;49m\u001b[43mread\u001b[49m\u001b[43m(\u001b[49m\u001b[43m)\u001b[49m\n",
      "\u001b[1;31mValueError\u001b[0m: I/O operation on closed file."
     ]
    }
   ],
   "source": [
    "f.read()"
   ]
  },
  {
   "cell_type": "code",
   "execution_count": null,
   "id": "cf48a224-d396-42fa-b1f3-906a8744697a",
   "metadata": {},
   "outputs": [
    {
     "name": "stdout",
     "output_type": "stream",
     "text": [
      "<csv.DictReader object at 0x000002321876ADB0>\n",
      "<class 'csv.DictReader'>\n",
      "{'Name': 'Asti', 'Age': '22', 'Profession': 'engineer'}\n",
      "{'Name': 'Nikhil', 'Age': '23', 'Profession': 'Data Analyst'}\n",
      "{'Name': 'Shivam', 'Age': '25', 'Profession': 'Developer'}\n"
     ]
    }
   ],
   "source": [
    "with open('firstcsv.csv') as file:\n",
    "    reader=csv.DictReader(file)\n",
    "    print(reader)#address of dictionary object\n",
    "    print(type(reader))\n",
    "    for i in reader:\n",
    "        print(i)"
   ]
  },
  {
   "cell_type": "code",
   "execution_count": null,
   "id": "050211a3-6ff7-4844-9279-0c5cc23a1233",
   "metadata": {},
   "outputs": [
    {
     "name": "stdout",
     "output_type": "stream",
     "text": [
      "<csv.DictReader object at 0x00000232186C28D0>\n",
      "<class 'csv.DictReader'>\n",
      "{'Name,Age,Profession': 'Asti', None: ['22,engineer']}\n",
      "{'Name,Age,Profession': 'Nikhil', None: ['23,Data Analyst']}\n",
      "{'Name,Age,Profession': 'Shivam', None: ['25,Developer']}\n"
     ]
    }
   ],
   "source": [
    "with open('dictionarypracsv.csv') as file:\n",
    "    reader=csv.DictReader(file,delimiter='|')\n",
    "    print(reader)#address of dictionary object\n",
    "    print(type(reader))\n",
    "    for i in reader:\n",
    "        print(i)"
   ]
  },
  {
   "cell_type": "code",
   "execution_count": null,
   "id": "29fd6d66-8ced-4a92-b19a-8638909340e8",
   "metadata": {},
   "outputs": [
    {
     "name": "stdout",
     "output_type": "stream",
     "text": [
      "<csv.DictReader object at 0x00000232186C28D0>\n",
      "<class 'csv.DictReader'>\n",
      "{'Name,Age,Profession': 'Asti', None: ['22,engineer']}\n",
      "{'Name,Age,Profession': 'Nikhil', None: ['23,Data Analyst']}\n",
      "{'Name,Age,Profession': 'Shivam', None: ['25,Developer']}\n"
     ]
    }
   ],
   "source": [
    "with open('dictionarypracsv.csv') as file:\n",
    "    reader=csv.DictReader(file,delimiter='|')\n",
    "    print(reader)#address of dictionary object\n",
    "    print(type(reader))\n",
    "    for i in reader:\n",
    "        print(i)"
   ]
  },
  {
   "cell_type": "code",
   "execution_count": null,
   "id": "e88f66a6-01dc-40bb-814f-325f0980e2d7",
   "metadata": {},
   "outputs": [],
   "source": [
    "import csv"
   ]
  },
  {
   "cell_type": "code",
   "execution_count": null,
   "id": "65f7d39c-990c-4ac3-a8e9-15ed088ed277",
   "metadata": {},
   "outputs": [
    {
     "name": "stdout",
     "output_type": "stream",
     "text": [
      "['Name', 'Age', 'Profession']\n",
      "['Asti', '22', 'engineer']\n",
      "['Nikhil', '23', 'Data Analyst']\n",
      "['Shivam', '25', 'Developer']\n"
     ]
    }
   ],
   "source": [
    "\n",
    "data=open('firstcsv.csv')\n",
    "file=csv.reader(data)\n",
    "for i in file:\n",
    "    print(i)\n",
    "data.close()"
   ]
  },
  {
   "cell_type": "code",
   "execution_count": null,
   "id": "7638a620-ce66-4fe1-822a-c0c0f7ab4b44",
   "metadata": {},
   "outputs": [
    {
     "name": "stdout",
     "output_type": "stream",
     "text": [
      "{'Name': 'Asti', 'Age': '22', 'Profession': 'engineer'}\n",
      "{'Name': 'Nikhil', 'Age': '23', 'Profession': 'Data Analyst'}\n",
      "{'Name': 'Shivam', 'Age': '25', 'Profession': 'Developer'}\n"
     ]
    }
   ],
   "source": [
    "f=open('firstcsv.csv')\n",
    "data=csv.DictReader(f)\n",
    "for i in data:\n",
    "    print(i)"
   ]
  },
  {
   "cell_type": "code",
   "execution_count": null,
   "id": "78cdbabb-3bfd-4d60-842b-6d0b6a641e82",
   "metadata": {},
   "outputs": [
    {
     "name": "stdout",
     "output_type": "stream",
     "text": [
      "{1: 'wed', 2: 'sas'}\n"
     ]
    }
   ],
   "source": [
    "d={1:\"das\",1:\"wed\",2:\"sas\"}\n",
    "print(d)"
   ]
  },
  {
   "cell_type": "code",
   "execution_count": null,
   "id": "36dabc7f-a3e4-41bb-9e53-26d3200fa3a0",
   "metadata": {},
   "outputs": [],
   "source": [
    "with open('firstwritecsv.csv','w',newline='') as file:\n",
    "    #writer object\n",
    "    writer=csv.writer(file)\n",
    "    #write using writerow\n",
    "    writer.writerow(['Name','Address','Age'])\n",
    "    writer.writerow(['Asti','63,Surat',22])"
   ]
  },
  {
   "cell_type": "code",
   "execution_count": null,
   "id": "03a743de-cf98-4bb5-a6ea-8480755d2a53",
   "metadata": {},
   "outputs": [],
   "source": [
    "columns=['Name','Address','Age']\n",
    "with open('firstdictonrywritecsv.csv','w') as file:\n",
    "    #dictwriter object\n",
    "    dw=csv.DictWriter(file,fieldnames=columns)\n",
    "    dw.writeheader()\n",
    "    dw.writerow({'Name':'Person1','Address':'11,banglore','Age':30})\n",
    "    dw.writerow({'Name':'Person2','Address':'11,banglore','Age':30})"
   ]
  },
  {
   "cell_type": "code",
   "execution_count": null,
   "id": "e2edb10a-012d-4615-be2a-144e1933bee5",
   "metadata": {},
   "outputs": [
    {
     "name": "stdout",
     "output_type": "stream",
     "text": [
      "{'Name': 'p1', 'Age': 25, 'Dept': 'Sales', 'Salary': 12000}\n",
      "{'Name': 'p2', 'Age': 21, 'Dept': 'HR', 'Salary': 20000}\n"
     ]
    }
   ],
   "source": [
    "#write csv file name,age,dept,salary\n",
    "#perform avreage salary and avg age ,maximum-minimum salary and age \n",
    "with open('operationper_csv.csv') as file:\n",
    "    reader=csv.DictReader(file)\n",
    "    for i in reader:\n",
    "        i['Age']=int(i['Age'])\n",
    "        i['Salary']=int(i['Salary'])\n",
    "        print(i)"
   ]
  },
  {
   "cell_type": "code",
   "execution_count": null,
   "id": "b6eb16f8-d45a-44a9-8013-6ec2751311df",
   "metadata": {},
   "outputs": [],
   "source": []
  },
  {
   "cell_type": "code",
   "execution_count": null,
   "id": "bfea0145-7d0d-48e3-95ad-c7c8cf8f1d36",
   "metadata": {},
   "outputs": [],
   "source": []
  }
 ],
 "metadata": {
  "kernelspec": {
   "display_name": "Python 3 (ipykernel)",
   "language": "python",
   "name": "python3"
  },
  "language_info": {
   "codemirror_mode": {
    "name": "ipython",
    "version": 3
   },
   "file_extension": ".py",
   "mimetype": "text/x-python",
   "name": "python",
   "nbconvert_exporter": "python",
   "pygments_lexer": "ipython3",
   "version": "3.12.1"
  }
 },
 "nbformat": 4,
 "nbformat_minor": 5
}
