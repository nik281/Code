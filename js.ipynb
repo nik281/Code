{
 "cells": [
  {
   "cell_type": "code",
   "execution_count": 1,
   "metadata": {},
   "outputs": [],
   "source": [
    "import json"
   ]
  },
  {
   "cell_type": "code",
   "execution_count": 5,
   "metadata": {},
   "outputs": [
    {
     "data": {
      "text/plain": [
       "'[{\"srn\":101,\"name\":\"p1\"}, {\"srn\":102,\"name\":\"p2\"}]\\n\\n'"
      ]
     },
     "execution_count": 5,
     "metadata": {},
     "output_type": "execute_result"
    }
   ],
   "source": [
    "file = open('student.json')\n",
    "s = file.read()\n",
    "s"
   ]
  },
  {
   "cell_type": "code",
   "execution_count": 6,
   "metadata": {},
   "outputs": [
    {
     "data": {
      "text/plain": [
       "[{'srn': 101, 'name': 'p1'}, {'srn': 102, 'name': 'p2'}]"
      ]
     },
     "execution_count": 6,
     "metadata": {},
     "output_type": "execute_result"
    }
   ],
   "source": [
    "d = json.loads(s)\n",
    "d"
   ]
  },
  {
   "cell_type": "code",
   "execution_count": 9,
   "metadata": {},
   "outputs": [],
   "source": [
    "file.close()\n"
   ]
  },
  {
   "cell_type": "code",
   "execution_count": 10,
   "metadata": {},
   "outputs": [
    {
     "data": {
      "text/plain": [
       "[{'srn': 101, 'name': 'p1'}, {'srn': 102, 'name': 'p2'}]"
      ]
     },
     "execution_count": 10,
     "metadata": {},
     "output_type": "execute_result"
    }
   ],
   "source": [
    "d"
   ]
  },
  {
   "cell_type": "code",
   "execution_count": 1,
   "metadata": {},
   "outputs": [],
   "source": [
    "import csv \n",
    "import json"
   ]
  },
  {
   "cell_type": "code",
   "execution_count": 2,
   "metadata": {},
   "outputs": [
    {
     "name": "stdout",
     "output_type": "stream",
     "text": [
      "Client 1 requests a ride from Point A to Point B\n",
      "Client 3 requests a ride from Market Street to Airport\n",
      "Driver 1 accepts ride request from Client 1\n"
     ]
    },
    {
     "name": "stdout",
     "output_type": "stream",
     "text": [
      "Driver 1 completed the ride for Client 1\n",
      "Driver 1 accepts ride request from Client 3\n",
      "Driver 1 completed the ride for Client 3\n"
     ]
    }
   ],
   "source": [
    "import threading\n",
    "import time\n",
    "import queue\n",
    "\n",
    "class Client:\n",
    "    def __init__(self, client_id):\n",
    "        self.id = client_id\n",
    "\n",
    "    def request_ride(self, pickup_location, destination):\n",
    "        print(f\"Client {self.id} requests a ride from {pickup_location} to {destination}\")\n",
    "        RideRequest(self.id, pickup_location, destination).submit()  \n",
    "\n",
    "class RideRequest:\n",
    "    def __init__(self, client_id, pickup_location, destination):\n",
    "        self.client_id = client_id\n",
    "        self.pickup_location = pickup_location\n",
    "        self.destination = destination\n",
    "\n",
    "    def submit(self):\n",
    "        Dispatcher.request_queue.put(self)\n",
    "\n",
    "class TaxiDriver:\n",
    "    def __init__(self, driver_id):\n",
    "        self.id = driver_id\n",
    "        self.available = True\n",
    "\n",
    "    def accept_request(self, request):\n",
    "        self.available = False\n",
    "        print(f\"Driver {self.id} accepts ride request from Client {request.client_id}\")\n",
    "        # Simulate ride duration\n",
    "        time.sleep(5)  \n",
    "        print(f\"Driver {self.id} completed the ride for Client {request.client_id}\")\n",
    "        self.available = True\n",
    "\n",
    "class Dispatcher:\n",
    "    request_queue = queue.Queue()\n",
    "    available_drivers = []\n",
    "\n",
    "    def register_driver(self, driver):\n",
    "        self.available_drivers.append(driver)\n",
    "\n",
    "    def dispatch(self):\n",
    "        while True:\n",
    "            request = self.request_queue.get()  # Wait for ride requests\n",
    "            self.assign_request(request)\n",
    "\n",
    "    def assign_request(self, request):\n",
    "        for driver in self.available_drivers:\n",
    "            if driver.available:\n",
    "                driver.accept_request(request)\n",
    "                return  # Driver assigned\n",
    "\n",
    "# Setup\n",
    "dispatcher = Dispatcher()\n",
    "drivers = [TaxiDriver(i) for i in range(1, 4)]  # Create some drivers\n",
    "for driver in drivers:\n",
    "    dispatcher.register_driver(driver)\n",
    "\n",
    "dispatch_thread = threading.Thread(target=dispatcher.dispatch)\n",
    "dispatch_thread.start()\n",
    "\n",
    "# Client requests\n",
    "clients = [Client(i) for i in range(1, 6)]\n",
    "clients[0].request_ride(\"Point A\", \"Point B\")\n",
    "clients[2].request_ride(\"Market Street\", \"Airport\")\n",
    "# ... more client requests\n"
   ]
  },
  {
   "cell_type": "code",
   "execution_count": null,
   "metadata": {},
   "outputs": [],
   "source": []
  }
 ],
 "metadata": {
  "kernelspec": {
   "display_name": "Python 3",
   "language": "python",
   "name": "python3"
  },
  "language_info": {
   "codemirror_mode": {
    "name": "ipython",
    "version": 3
   },
   "file_extension": ".py",
   "mimetype": "text/x-python",
   "name": "python",
   "nbconvert_exporter": "python",
   "pygments_lexer": "ipython3",
   "version": "3.12.2"
  }
 },
 "nbformat": 4,
 "nbformat_minor": 2
}
